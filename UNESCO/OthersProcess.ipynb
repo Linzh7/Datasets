{
    "cells": [
        {
            "cell_type": "code",
            "execution_count": 30,
            "source": [
                "import csv\n",
                "import pandas as pd\n",
                "import numpy as np\n",
                "\n",
                "import time"
            ],
            "outputs": [],
            "metadata": {}
        },
        {
            "cell_type": "code",
            "execution_count": 31,
            "source": [
                "def getCSVFileAsDataFrame(fileName):\n",
                "    csvData = pd.read_csv(fileName)\n",
                "    return pd.DataFrame(csvData)\n",
                "\n",
                "\n",
                "def getCSVFileAsList(fileName):\n",
                "    with open(fileName, 'r') as f:\n",
                "        reader = csv.reader(f)\n",
                "        return list(reader)\n"
            ],
            "outputs": [],
            "metadata": {}
        },
        {
            "cell_type": "code",
            "execution_count": 32,
            "source": [
                "df = getCSVFileAsDataFrame('SCN_DS_23082021071224317.csv')\n",
                "ls = getCSVFileAsList('SCN_DS_23082021071224317.csv')\n",
                "#arr = getCSVFileAsNpArray('NATMON_DATA_NATIONAL.csv')\n"
            ],
            "outputs": [],
            "metadata": {}
        },
        {
            "cell_type": "code",
            "execution_count": 33,
            "source": [
                "yearLs=ls\n",
                "# for row in ls:\n",
                "#     if row[2]=='2018':\n",
                "#         yearLs.append(row)"
            ],
            "outputs": [],
            "metadata": {}
        },
        {
            "cell_type": "code",
            "execution_count": 34,
            "source": [
                "# years = df['YEAR'].values.tolist()\n",
                "# dict(zip(*np.unique(years, return_counts=True)))"
            ],
            "outputs": [],
            "metadata": {}
        },
        {
            "cell_type": "code",
            "execution_count": 35,
            "source": [
                "labels = df['Indicator'].drop_duplicates().values.tolist()\n",
                "countrys = df['LOCATION'].drop_duplicates().values.tolist()\n",
                "# df = df[df['YEAR'] == 2018]\n",
                "#data\n"
            ],
            "outputs": [],
            "metadata": {}
        },
        {
            "cell_type": "code",
            "execution_count": 36,
            "source": [
                "#labelMap = getCSVFileAsDataFrame('NATMON_LABEL.csv')\n",
                "# type(labelMap['INDICATOR_ID'][100])\n",
                "# yearLs"
            ],
            "outputs": [],
            "metadata": {}
        },
        {
            "cell_type": "code",
            "execution_count": 37,
            "source": [
                "labelss = list(map(str, labels))\n",
                "labelss=sorted(labelss)\n",
                "countrys = sorted(countrys)\n",
                "labelss\n"
            ],
            "outputs": [
                {
                    "output_type": "execute_result",
                    "data": {
                        "text/plain": [
                            "['DEC alternative conversion factor (LCU per US$)',\n",
                            " 'Fertility rate, total (births per woman)',\n",
                            " 'GDP (constant LCU)',\n",
                            " 'GDP (current LCU)',\n",
                            " 'GDP (current US$)',\n",
                            " 'GDP at market prices (constant 2010 US$)',\n",
                            " 'GDP deflator (base year varies by country)',\n",
                            " 'GDP growth (annual %)',\n",
                            " 'GDP per capita (current LCU)',\n",
                            " 'GDP per capita (current US$)',\n",
                            " 'GDP per capita, PPP (constant 2011 international $)',\n",
                            " 'GDP per capita, PPP (current international $)',\n",
                            " 'GDP, PPP (constant 2011 international $)',\n",
                            " 'GDP, PPP (current international $)',\n",
                            " 'GNI (current LCU)',\n",
                            " 'GNI per capita (current LCU)',\n",
                            " 'GNI per capita, Atlas method (current US$)',\n",
                            " 'GNI per capita, PPP (current international $)',\n",
                            " 'General government total expenditure (current LCU)',\n",
                            " 'Life expectancy at birth, total (years)',\n",
                            " 'Mortality rate, infant (per 1,000 live births)',\n",
                            " 'Official exchange rate (LCU per US$, period average)',\n",
                            " 'PPP conversion factor, GDP (LCU per international $)',\n",
                            " 'PPP conversion factor, private consumption (LCU per international $)',\n",
                            " 'Population aged 14 years or younger (thousands)',\n",
                            " 'Population aged 15-24 years (thousands)',\n",
                            " 'Population aged 25-64 years (thousands) ',\n",
                            " 'Population aged 65 years or older (thousands)',\n",
                            " 'Population growth (annual %)',\n",
                            " 'Poverty headcount ratio at $3.20 a day (PPP) (% of population)',\n",
                            " 'Prevalence of HIV, total (% of population ages 15-49)',\n",
                            " 'Price level ratio of PPP conversion factor (GDP) to market exchange rate',\n",
                            " 'Rural population (% of total population)',\n",
                            " 'Total debt service (% of GNI)',\n",
                            " 'Total population (thousands)']"
                        ]
                    },
                    "metadata": {},
                    "execution_count": 37
                }
            ],
            "metadata": {}
        },
        {
            "cell_type": "markdown",
            "source": [
                "it seems like...\n",
                "original function is much efficent than pandas.\n",
                "and in Python, memory copy cost a lot while search cost less\n",
                "moreover, pandas may use a link-table or sth else so that copy takes less"
            ],
            "metadata": {}
        },
        {
            "cell_type": "code",
            "execution_count": 38,
            "source": [
                "# best performence\n",
                "t1=time.time()\n",
                "fullData=[]\n",
                "for country in countrys:\n",
                "    tmpData = []\n",
                "    for row in yearLs:\n",
                "        if row[2] == country:\n",
                "            tmpData.append(row)\n",
                "    countryData = [country]\n",
                "\n",
                "    for label in labelss:\n",
                "        flag = False\n",
                "        for tmpRow in tmpData:\n",
                "            # print(\"{},,{}\".format(tmpRow[0], label))\n",
                "            if tmpRow[1] == label:\n",
                "                countryData.append(tmpRow[6])\n",
                "                flag = True\n",
                "                break\n",
                "        if flag == False:\n",
                "            countryData.append('NaN')\n",
                "    fullData.append(countryData)\n",
                "    # print(country, countryData)\n",
                "    # break\n",
                "print(fullData[0])\n",
                "print((time.time()-t1))\n"
            ],
            "outputs": [
                {
                    "output_type": "stream",
                    "name": "stdout",
                    "text": [
                        "['ABW', '1.8', '1.9', 'NaN', 'NaN', 'NaN', 'NaN', 'NaN', 'NaN', 'NaN', 'NaN', 'NaN', 'NaN', 'NaN', 'NaN', 'NaN', 'NaN', 'NaN', 'NaN', 'NaN', '76', 'NaN', '1.8', 'NaN', '1.5', '19', '15', '58', '14', '0.5', 'NaN', 'NaN', 'NaN', '57', 'NaN', '106']\n",
                        "0.14523696899414062\n"
                    ]
                }
            ],
            "metadata": {}
        },
        {
            "cell_type": "code",
            "execution_count": 39,
            "source": [
                "# t1 = time.time()\n",
                "# dic={}\n",
                "# for country in countrys[0:3]:\n",
                "#     ls = []\n",
                "#     countryData = df[df['COUNTRY_ID'] == country]\n",
                "#     for label in labels:\n",
                "#         tmp = countryData[countryData['INDICATOR_ID'] == label].values\n",
                "#         try:\n",
                "#             ls.append(tmp[0, 3])\n",
                "#             # print(\"{} has {} keys\".format(country, label))\n",
                "#         except:\n",
                "#             ls.append('NaN')\n",
                "#             # print(\"{} no {} keys\".format(country,label))\n",
                "#     dic[country] = ls\n",
                "#     print(country, len(ls))\n",
                "# print((time.time()-t1)*len(countrys)/3)\n"
            ],
            "outputs": [],
            "metadata": {}
        },
        {
            "cell_type": "code",
            "execution_count": 40,
            "source": [
                "# t1 = time.time()\n",
                "# dic = {}\n",
                "# for label in labelss:\n",
                "#     tmpData = []\n",
                "#     for row in yearLs:\n",
                "#         if row[1] == label:\n",
                "#             tmpData.append(row)\n",
                "#     countryData = []\n",
                "\n",
                "#     for country in countrys:\n",
                "#         flag = False\n",
                "#         for tmpRow in tmpData:\n",
                "#             # print(tmpRow[0], label)\n",
                "#             if tmpRow[1] == country:\n",
                "#                 countryData.append(tmpRow[3])\n",
                "#                 flag = True\n",
                "#                 break\n",
                "#         if flag == False:\n",
                "#             countryData.append('NaN')\n",
                "#     dic[country] = countryData\n",
                "#     break\n",
                "# print((time.time()-t1)*len(labelss))\n"
            ],
            "outputs": [],
            "metadata": {}
        },
        {
            "cell_type": "code",
            "execution_count": 41,
            "source": [
                "# t1 = time.time()\n",
                "# dic = {}\n",
                "# for label in labels:\n",
                "#     ls = []\n",
                "#     countryData = df[df['INDICATOR_ID'] == label]\n",
                "#     for country in countrys:\n",
                "#         tmp = countryData[countryData['COUNTRY_ID'] == country].values\n",
                "#         try:\n",
                "#             ls.append(tmp[0, 3])\n",
                "#             # print(\"{} has {} keys\".format(country, label))\n",
                "#         except:\n",
                "#             ls.append('NaN')\n",
                "#             # print(\"{} no {} keys\".format(country,label))\n",
                "#     dic[country] = ls\n",
                "#     break\n",
                "# print((time.time()-t1)*len(labelss))\n"
            ],
            "outputs": [],
            "metadata": {}
        },
        {
            "cell_type": "code",
            "execution_count": 42,
            "source": [
                "with open('DEMO_DS.csv', 'w', newline='') as f:\n",
                "    for label in labelss:\n",
                "        f.write(label)\n",
                "        f.write(\",\")\n",
                "    f.write(\"\\n\")\n",
                "    for i in range(len(fullData)):\n",
                "        for j in range(len(fullData[0])):\n",
                "            f.write(fullData[i][j])\n",
                "            f.write(\",\")\n",
                "        f.write(\"\\n\")\n"
            ],
            "outputs": [],
            "metadata": {}
        },
        {
            "cell_type": "code",
            "execution_count": 21,
            "source": [
                "# len(fullData[1])\n"
            ],
            "outputs": [
                {
                    "output_type": "execute_result",
                    "data": {
                        "text/plain": [
                            "1362"
                        ]
                    },
                    "metadata": {},
                    "execution_count": 21
                }
            ],
            "metadata": {}
        },
        {
            "cell_type": "code",
            "execution_count": null,
            "source": [],
            "outputs": [],
            "metadata": {}
        }
    ],
    "metadata": {
        "orig_nbformat": 4,
        "language_info": {
            "name": "python",
            "version": "3.8.5",
            "mimetype": "text/x-python",
            "codemirror_mode": {
                "name": "ipython",
                "version": 3
            },
            "pygments_lexer": "ipython3",
            "nbconvert_exporter": "python",
            "file_extension": ".py"
        },
        "kernelspec": {
            "name": "python3",
            "display_name": "Python 3.8.5 64-bit ('base': conda)"
        },
        "interpreter": {
            "hash": "9ed8222cd9c015138d1ffd24021f41caff546197900055b8ae1399cb44a00606"
        }
    },
    "nbformat": 4,
    "nbformat_minor": 2
}